{
 "cells": [
  {
   "cell_type": "raw",
   "metadata": {},
   "source": [
    "1 = rock\n",
    "2 = paper\n",
    "3 = scissors\n",
    "0 = no input"
   ]
  },
  {
   "cell_type": "code",
   "execution_count": 85,
   "metadata": {},
   "outputs": [],
   "source": [
    "import numpy as np"
   ]
  },
  {
   "cell_type": "code",
   "execution_count": 520,
   "metadata": {},
   "outputs": [],
   "source": [
    "df = pd.DataFrame()\n",
    "ID = []\n",
    "p1 = []\n",
    "p2 = []\n",
    "df['ID'] = ID\n",
    "df['p1'] = p1\n",
    "df['p2'] = p2"
   ]
  },
  {
   "cell_type": "code",
   "execution_count": 521,
   "metadata": {},
   "outputs": [],
   "source": [
    "def game(Max):\n",
    "    John = np.random.randint(1,3)\n",
    "    ID.append(len(p1))\n",
    "    print(ID)\n",
    "    p1.append(Max)\n",
    "    p2.append(John)\n",
    "    print(len(p1))\n",
    "    print(p1)\n",
    "    print(len(p2))\n",
    "    print(p2)\n",
    "    for i in range(0,len(df)+1):\n",
    "        df.loc[i] = [ID[i],p1[i],p2[i]]\n",
    "    \n",
    "# #     df.loc[len(df)] = [ID[len(ID)],p1[len(p1)],p2[len(p2)]]\n",
    "#     df['ID'] = ID\n",
    "#     df['p1'] = p1\n",
    "#     df['p2'] = p2"
   ]
  },
  {
   "cell_type": "code",
   "execution_count": 524,
   "metadata": {},
   "outputs": [
    {
     "name": "stdout",
     "output_type": "stream",
     "text": [
      "[0, 1]\n",
      "2\n",
      "[1, 1]\n",
      "2\n",
      "[2, 1]\n"
     ]
    }
   ],
   "source": [
    "game(1)"
   ]
  },
  {
   "cell_type": "code",
   "execution_count": 525,
   "metadata": {},
   "outputs": [
    {
     "name": "stdout",
     "output_type": "stream",
     "text": [
      "I win, too bad so sad\n",
      "draw... Good Job Max\n"
     ]
    }
   ],
   "source": [
    "for i in range (0, len(df['ID']+1)):\n",
    "    if (df['p1'][i] == 1) & (df['p2'][i] == 1):\n",
    "        print(\"draw... Good Job Max\")\n",
    "    elif (df['p1'][i] == 2) & (df['p2'][i] == 2):\n",
    "        print(\"draw... Good Job Max\")\n",
    "    elif (df['p1'][i] == 3) & (df['p2'][i] == 3):\n",
    "        print(\"draw... Good Job Max\")\n",
    "        \n",
    "    elif (df['p1'][i] == 1) & (df['p2'][i] == 2):\n",
    "        print(\"I win, too bad so sad\")\n",
    "    elif (df['p1'][i] == 1) & (df['p2'][i] == 3):\n",
    "        print(\"I lose... Good Job Max\")\n",
    "    \n",
    "    elif (df['p1'][i] == 2) & (df['p2'][i] == 1):\n",
    "        print(\"I lose... Good Job Max\")\n",
    "    elif (df['p1'][i] == 2) & (df['p2'][i] == 3):\n",
    "        print(\"I win, too bad so sad\")\n",
    "\n",
    "    elif (df['p1'][i] == 3) & (df['p2'][i] == 1):\n",
    "        print(\"I win, too bad so sad\")\n",
    "    elif (df['p1'][i] == 3) & (df['p2'][i] == 2):\n",
    "        print(\"I lose... Good Job Max\")\n",
    "        \n",
    "    else:\n",
    "        print(\"Do you really want to play?\")"
   ]
  },
  {
   "cell_type": "code",
   "execution_count": null,
   "metadata": {},
   "outputs": [],
   "source": []
  }
 ],
 "metadata": {
  "kernelspec": {
   "display_name": "Python 3",
   "language": "python",
   "name": "python3"
  },
  "language_info": {
   "codemirror_mode": {
    "name": "ipython",
    "version": 3
   },
   "file_extension": ".py",
   "mimetype": "text/x-python",
   "name": "python",
   "nbconvert_exporter": "python",
   "pygments_lexer": "ipython3",
   "version": "3.7.3"
  }
 },
 "nbformat": 4,
 "nbformat_minor": 2
}
