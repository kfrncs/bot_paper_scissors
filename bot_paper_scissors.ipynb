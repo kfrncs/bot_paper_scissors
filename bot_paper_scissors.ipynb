{
 "cells": [
  {
   "cell_type": "raw",
   "metadata": {},
   "source": [
    "1 = rock\n",
    "2 = paper\n",
    "3 = scissors\n",
    "0 = no input"
   ]
  },
  {
   "cell_type": "code",
   "execution_count": null,
   "metadata": {},
   "outputs": [],
   "source": [
    "# imports\n",
    "import pandas as pd\n",
    "import numpy as np\n",
    "import pymc3 as pm\n",
    "from sklearn.ensemble import RandomForestClassifier\n",
    "from sklearn.model_selection import train_test_split\n",
    "from catboost import CatBoostClassifier\n",
    "\n",
    "# ignore future warning\n",
    "import warnings\n",
    "warnings.simplefilter(action='ignore', category=FutureWarning)\n",
    "\n",
    "# read data\n",
    "df = pd.read_csv('data/rock_paper.csv')\n",
    "\n",
    "# make dummy df for predictions\n",
    "dummy = df.head(1).copy()"
   ]
  },
  {
   "cell_type": "code",
   "execution_count": null,
   "metadata": {},
   "outputs": [],
   "source": [
    "# make columns with the last turn, two turns ago\n",
    "df['p1_t-1'] = df.groupby('game_id')['player_one_throw'].shift(1)\n",
    "df['p1_t-2'] = df.groupby('game_id')['player_one_throw'].shift(2)\n",
    "df['p1_t-3'] = df.groupby('game_id')['player_one_throw'].shift(3)\n",
    "df['p1_t-4'] = df.groupby('game_id')['player_one_throw'].shift(4)\n",
    "df['p1_t-5'] = df.groupby('game_id')['player_one_throw'].shift(5)\n",
    "df['p2_t-1'] = df.groupby('game_id')['player_two_throw'].shift(1)\n",
    "df['p2_t-2'] = df.groupby('game_id')['player_two_throw'].shift(2)\n",
    "df['p2_t-3'] = df.groupby('game_id')['player_two_throw'].shift(3)\n",
    "df['p2_t-4'] = df.groupby('game_id')['player_two_throw'].shift(4)\n",
    "df['p2_t-5'] = df.groupby('game_id')['player_two_throw'].shift(5)\n",
    "\n",
    "# make y the next throw\n",
    "y = df.groupby('game_id')['player_one_throw'].shift(-1)\n",
    "\n",
    "# fill NaN's with 0's\n",
    "df = df.fillna(0)\n",
    "y = y.fillna(0)"
   ]
  },
  {
   "cell_type": "code",
   "execution_count": null,
   "metadata": {},
   "outputs": [],
   "source": [
    "df.sample()"
   ]
  },
  {
   "cell_type": "code",
   "execution_count": null,
   "metadata": {},
   "outputs": [],
   "source": [
    "# train test split\n",
    "X_train, X_test, y_train, y_test = train_test_split(df, y, test_size=0.33, random_state=42)"
   ]
  },
  {
   "cell_type": "code",
   "execution_count": null,
   "metadata": {},
   "outputs": [],
   "source": [
    "# RANDOM FORESTS\n",
    "rf = RandomForestClassifier()\n",
    "rf.fit(X_train, y_train)\n",
    "print('random forest train score: ', rf.score(X_train, y_train))\n",
    "print('random forest test score: ', rf.score(X_test, y_test))"
   ]
  },
  {
   "cell_type": "code",
   "execution_count": null,
   "metadata": {},
   "outputs": [],
   "source": [
    "# CATBOOST\n",
    "cb = CatBoostClassifier()\n",
    "cb.fit(X_train, y_train, plot=True, logging_level='Silent')\n",
    "print('catboost score on train: ', cb.score(X_train, y_train))\n",
    "print('catboost score on test: ', cb.score(X_test, y_test))"
   ]
  },
  {
   "cell_type": "code",
   "execution_count": null,
   "metadata": {},
   "outputs": [],
   "source": []
  }
 ],
 "metadata": {
  "kernelspec": {
   "display_name": "Python 3",
   "language": "python",
   "name": "python3"
  },
  "language_info": {
   "codemirror_mode": {
    "name": "ipython",
    "version": 3
   },
   "file_extension": ".py",
   "mimetype": "text/x-python",
   "name": "python",
   "nbconvert_exporter": "python",
   "pygments_lexer": "ipython3",
   "version": "3.6.5"
  }
 },
 "nbformat": 4,
 "nbformat_minor": 2
}
